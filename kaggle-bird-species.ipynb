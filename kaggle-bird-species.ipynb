{
 "cells": [
  {
   "cell_type": "code",
   "execution_count": 1,
   "metadata": {
    "_cell_guid": "b1076dfc-b9ad-4769-8c92-a6c4dae69d19",
    "_uuid": "8f2839f25d086af736a60e9eeb907d3b93b6e0e5"
   },
   "outputs": [],
   "source": [
    "import tensorflow as tf\n",
    "from tensorflow.keras import losses, optimizers, layers\n",
    "from tensorflow.keras.utils import to_categorical\n",
    "from tensorflow.keras.applications import MobileNet\n",
    "\n",
    "\n",
    "import numpy as np\n",
    "import cv2\n",
    "import matplotlib.pyplot as plt\n",
    "import os\n",
    "\n",
    "\n",
    "BASE_DIR = 'data/100-bird-species/'\n",
    "TRAIN_DIR = os.path.join(BASE_DIR, 'train')\n",
    "VALIDATION_DIR = os.path.join(BASE_DIR, 'valid')\n",
    "TEST_DIR = os.path.join(BASE_DIR, 'test')\n",
    "CATEGORIES = os.listdir(TRAIN_DIR) # 175"
   ]
  },
  {
   "cell_type": "code",
   "execution_count": null,
   "metadata": {},
   "outputs": [],
   "source": [
    "train_data = []\n",
    "train_labels = []\n",
    "\n",
    "test_data = []\n",
    "test_labels = []\n",
    "\n",
    "\n",
    "for category in os.listdir(TRAIN_DIR):\n",
    "    path = os.path.join(TRAIN_DIR, category)\n",
    "    for image in os.listdir(path):\n",
    "        img = cv2.imread(os.path.join(path, image))\n",
    "        img = cv2.cvtColor(img, cv2.COLOR_BGR2RGB)\n",
    "        label = CATEGORIES.index(category)\n",
    "        train_data.append(img)\n",
    "        train_labels.append(label)\n",
    "\n",
    "        \n",
    "for category in os.listdir(TEST_DIR):\n",
    "    path = os.path.join(TEST_DIR, category)\n",
    "    for image in os.listdir(path):\n",
    "        img = cv2.imread(os.path.join(path, image))\n",
    "        img = cv2.cvtColor(img, cv2.COLOR_BGR2RGB)\n",
    "        label = CATEGORIES.index(category)\n",
    "        test_data.append(img)\n",
    "        test_labels.append(label)\n"
   ]
  },
  {
   "cell_type": "code",
   "execution_count": null,
   "metadata": {},
   "outputs": [],
   "source": [
    "train_data = np.asarray(train_data).astype('float32') / 255\n",
    "train_labels = to_categorical(train_labels)\n",
    "\n",
    "test_data = np.asarray(test_data).astype('float32') / 255\n",
    "test_labels = to_categorical(test_labels)"
   ]
  },
  {
   "cell_type": "code",
   "execution_count": null,
   "metadata": {},
   "outputs": [],
   "source": [
    "conv_base = MobileNet(weights='imagenet', include_top=False, input_shape=(224, 224, 3))\n",
    "conv_base.trainable = False\n",
    "\n",
    "model = tf.keras.models.Sequential()\n",
    "model.add(conv_base)\n",
    "model.add(layers.Flatten())\n",
    "model.add(layers.Dense(256, activation=tf.nn.relu))\n",
    "model.add(layers.Dense(len(CATEGORIES), activation=tf.nn.softmax))\n",
    "\n",
    "model.compile(\n",
    "    optimizer=optimizers.RMSprop(lr=0.001),\n",
    "    loss=losses.categorical_crossentropy,\n",
    "    metrics=['accuracy'],\n",
    ")"
   ]
  },
  {
   "cell_type": "code",
   "execution_count": null,
   "metadata": {},
   "outputs": [],
   "source": [
    "history = model.fit(\n",
    "    train_images, train_labels,\n",
    "    batch_size=32,\n",
    "    epochs=40,\n",
    ")"
   ]
  },
  {
   "cell_type": "code",
   "execution_count": null,
   "metadata": {},
   "outputs": [],
   "source": [
    "model.save('100-bird-species.h5')"
   ]
  },
  {
   "cell_type": "code",
   "execution_count": null,
   "metadata": {},
   "outputs": [],
   "source": [
    "model.load_weights('100-bird-species.h5')"
   ]
  },
  {
   "cell_type": "code",
   "execution_count": null,
   "metadata": {},
   "outputs": [],
   "source": [
    "_, accuracy = model.evaluate(test_images, test_labels)\n",
    "print('Accuracy: ', round(accuracy * 100, 2), '%')\n",
    "\n",
    "plt.plot(history.history['accuracy'], 'r-')\n",
    "plt.legend()\n",
    "plt.grid()\n",
    "plt.show()"
   ]
  },
  {
   "cell_type": "code",
   "execution_count": null,
   "metadata": {},
   "outputs": [],
   "source": []
  }
 ],
 "metadata": {
  "kernelspec": {
   "display_name": "Python 3",
   "language": "python",
   "name": "python3"
  },
  "language_info": {
   "codemirror_mode": {
    "name": "ipython",
    "version": 3
   },
   "file_extension": ".py",
   "mimetype": "text/x-python",
   "name": "python",
   "nbconvert_exporter": "python",
   "pygments_lexer": "ipython3",
   "version": "3.7.4"
  }
 },
 "nbformat": 4,
 "nbformat_minor": 4
}
